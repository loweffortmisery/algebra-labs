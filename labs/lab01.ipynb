{
 "cells": [
  {
   "cell_type": "markdown",
   "id": "e2968a6b",
   "metadata": {},
   "source": [
    "# Вступне завдання на знайомство з базовим синтаксисом Sage\n",
    "\n",
    "Вітаю на першому завданні з Sage! У цьому зошиті ви виконаєте кілька невеликих завдань, щоб ознайомитися з базовим синтаксисом SageMath. Заповніть свій код у вказаних місцях. Не хвилюйтеся, якщо щось не вдастся з першого разу — ми вчимося!"
   ]
  },
  {
   "cell_type": "markdown",
   "id": "16bb88b3",
   "metadata": {},
   "source": [
    "---\n",
    "## Прості арифметичні операції\n",
    "\n",
    "- Додайте 25 і 17.\n",
    "- Помножте 7 на 9.\n",
    "- Поділіть 144 на 12."
   ]
  },
  {
   "cell_type": "code",
   "execution_count": 2,
   "id": "82c3879d",
   "metadata": {},
   "outputs": [
    {
     "data": {
      "text/plain": [
       "42"
      ]
     },
     "execution_count": 2,
     "metadata": {},
     "output_type": "execute_result"
    }
   ],
   "source": [
    "25+17"
   ]
  },
  {
   "cell_type": "code",
   "execution_count": 3,
   "id": "4ab7c377",
   "metadata": {},
   "outputs": [
    {
     "data": {
      "text/plain": [
       "63"
      ]
     },
     "execution_count": 3,
     "metadata": {},
     "output_type": "execute_result"
    }
   ],
   "source": [
    "7*9"
   ]
  },
  {
   "cell_type": "code",
   "execution_count": 4,
   "id": "08ae7168",
   "metadata": {},
   "outputs": [
    {
     "data": {
      "text/plain": [
       "1728"
      ]
     },
     "execution_count": 4,
     "metadata": {},
     "output_type": "execute_result"
    }
   ],
   "source": [
    "144*12"
   ]
  },
  {
   "cell_type": "markdown",
   "id": "e77d63d9",
   "metadata": {},
   "source": [
    "---\n",
    "## Цілочисельні операції\n",
    "\n",
    "- Знайдіть залишок від ділення 156 на 7 \n",
    "- Поділіть 156 націло на 7\n",
    "- Розкладіть число 2024 на множники"
   ]
  },
  {
   "cell_type": "code",
   "execution_count": 5,
   "id": "2f15aedc",
   "metadata": {},
   "outputs": [
    {
     "data": {
      "text/plain": [
       "2"
      ]
     },
     "execution_count": 5,
     "metadata": {},
     "output_type": "execute_result"
    }
   ],
   "source": [
    "156%7"
   ]
  },
  {
   "cell_type": "code",
   "execution_count": 6,
   "id": "139a037d",
   "metadata": {},
   "outputs": [
    {
     "data": {
      "text/plain": [
       "22"
      ]
     },
     "execution_count": 6,
     "metadata": {},
     "output_type": "execute_result"
    }
   ],
   "source": [
    "156//7"
   ]
  },
  {
   "cell_type": "code",
   "execution_count": 7,
   "id": "c49d480c",
   "metadata": {},
   "outputs": [
    {
     "data": {
      "text/plain": [
       "2^3 * 11 * 23"
      ]
     },
     "execution_count": 7,
     "metadata": {},
     "output_type": "execute_result"
    }
   ],
   "source": [
    "factor(2024)"
   ]
  },
  {
   "cell_type": "markdown",
   "id": "00e6d090",
   "metadata": {},
   "source": [
    "---\n",
    "\n",
    "## Степені та корені\n",
    "- Обчисліть $ 5^3 $.\n",
    "- Знайдіть квадратний корінь з 49."
   ]
  },
  {
   "cell_type": "code",
   "execution_count": 1,
   "id": "79344055",
   "metadata": {},
   "outputs": [
    {
     "data": {
      "text/plain": [
       "125"
      ]
     },
     "execution_count": 1,
     "metadata": {},
     "output_type": "execute_result"
    }
   ],
   "source": [
    "5^3"
   ]
  },
  {
   "cell_type": "code",
   "execution_count": 2,
   "id": "8cee8b7c",
   "metadata": {},
   "outputs": [
    {
     "data": {
      "text/plain": [
       "7"
      ]
     },
     "execution_count": 2,
     "metadata": {},
     "output_type": "execute_result"
    }
   ],
   "source": [
    "sqrt(49)"
   ]
  },
  {
   "cell_type": "markdown",
   "id": "9d63f06d",
   "metadata": {},
   "source": [
    "---\n",
    "\n",
    "## Стандартні функції\n",
    "\n",
    "Обчисліть як точно, так і наближено:\n",
    "- $\\cos 0$\n",
    "- $\\sin \\pi$\n",
    "- $\\exp(2)$\n",
    "- $\\tan \\frac\\pi4$\n",
    "- $\\arcsin 1$\n"
   ]
  },
  {
   "cell_type": "code",
   "execution_count": 4,
   "id": "de4fd035-52e2-46c3-95cb-f61a5a19b579",
   "metadata": {},
   "outputs": [
    {
     "data": {
      "text/plain": [
       "1"
      ]
     },
     "execution_count": 4,
     "metadata": {},
     "output_type": "execute_result"
    }
   ],
   "source": [
    "cos(0)"
   ]
  },
  {
   "cell_type": "code",
   "execution_count": 5,
   "id": "d6b3355a",
   "metadata": {},
   "outputs": [
    {
     "data": {
      "text/plain": [
       "1.00000000000000"
      ]
     },
     "execution_count": 5,
     "metadata": {},
     "output_type": "execute_result"
    }
   ],
   "source": [
    "n(cos(0))"
   ]
  },
  {
   "cell_type": "code",
   "execution_count": 6,
   "id": "011ddc7b",
   "metadata": {},
   "outputs": [
    {
     "data": {
      "text/plain": [
       "0"
      ]
     },
     "execution_count": 6,
     "metadata": {},
     "output_type": "execute_result"
    }
   ],
   "source": [
    "sin(pi)"
   ]
  },
  {
   "cell_type": "code",
   "execution_count": 7,
   "id": "29d9a793",
   "metadata": {},
   "outputs": [
    {
     "data": {
      "text/plain": [
       "0.000000000000000"
      ]
     },
     "execution_count": 7,
     "metadata": {},
     "output_type": "execute_result"
    }
   ],
   "source": [
    "n(sin(pi))"
   ]
  },
  {
   "cell_type": "code",
   "execution_count": 10,
   "id": "a02355d8",
   "metadata": {
    "scrolled": true
   },
   "outputs": [
    {
     "data": {
      "text/plain": [
       "e^2"
      ]
     },
     "execution_count": 10,
     "metadata": {},
     "output_type": "execute_result"
    }
   ],
   "source": [
    "exp(2)"
   ]
  },
  {
   "cell_type": "code",
   "execution_count": 11,
   "id": "7a9863b1-6450-4e59-b809-6516b3af9adf",
   "metadata": {},
   "outputs": [
    {
     "data": {
      "text/plain": [
       "7.38905609893065"
      ]
     },
     "execution_count": 11,
     "metadata": {},
     "output_type": "execute_result"
    }
   ],
   "source": [
    "n(exp(2))"
   ]
  },
  {
   "cell_type": "code",
   "execution_count": 12,
   "id": "3ec7622b-7694-4aee-a9e2-f104cd960c23",
   "metadata": {},
   "outputs": [
    {
     "data": {
      "text/plain": [
       "1"
      ]
     },
     "execution_count": 12,
     "metadata": {},
     "output_type": "execute_result"
    }
   ],
   "source": [
    "tan(pi/4)"
   ]
  },
  {
   "cell_type": "code",
   "execution_count": 13,
   "id": "11adb675-b055-4973-8929-58321ec76a9a",
   "metadata": {},
   "outputs": [
    {
     "data": {
      "text/plain": [
       "1.00000000000000"
      ]
     },
     "execution_count": 13,
     "metadata": {},
     "output_type": "execute_result"
    }
   ],
   "source": [
    "n(tan(pi/4))"
   ]
  },
  {
   "cell_type": "markdown",
   "id": "b2f30eb3-2258-4c15-8324-8944783be98b",
   "metadata": {},
   "source": [
    "---\n",
    "\n",
    "## Змінні\n",
    "Оголосіть змінні `x` та `y`, де `x = 10` та `y = 15`. Обчисліть їх суму та добуток."
   ]
  },
  {
   "cell_type": "code",
   "execution_count": 22,
   "id": "d707811d",
   "metadata": {},
   "outputs": [],
   "source": [
    "x=10"
   ]
  },
  {
   "cell_type": "code",
   "execution_count": 23,
   "id": "fbdae0a2",
   "metadata": {},
   "outputs": [],
   "source": [
    "y=15"
   ]
  },
  {
   "cell_type": "code",
   "execution_count": 24,
   "id": "c7538913-1dce-4788-9dde-5eb62650a3ed",
   "metadata": {},
   "outputs": [
    {
     "data": {
      "text/plain": [
       "(25, 150)"
      ]
     },
     "execution_count": 24,
     "metadata": {},
     "output_type": "execute_result"
    }
   ],
   "source": [
    "x+y, x*y"
   ]
  },
  {
   "cell_type": "markdown",
   "id": "d80be4cd",
   "metadata": {},
   "source": [
    "---\n",
    "\n",
    "## Символьні вирази\n",
    "Оголосіть символьну змінну `z` та обчисліть вираз $ 3z^2 + 2z - 5 $."
   ]
  },
  {
   "cell_type": "code",
   "execution_count": 23,
   "id": "bb40f4a8",
   "metadata": {},
   "outputs": [],
   "source": [
    "z = var('z')"
   ]
  },
  {
   "cell_type": "code",
   "execution_count": 31,
   "id": "14e3597e-a357-4309-b335-821bb2039bba",
   "metadata": {},
   "outputs": [
    {
     "data": {
      "text/plain": [
       "3*z^2 + 2*z - 5"
      ]
     },
     "execution_count": 31,
     "metadata": {},
     "output_type": "execute_result"
    }
   ],
   "source": [
    "3*z^2 + 2*z - 5"
   ]
  },
  {
   "cell_type": "code",
   "execution_count": 22,
   "id": "7c4950d0-602c-46db-ac7d-f4e2f10325b8",
   "metadata": {},
   "outputs": [
    {
     "data": {
      "text/plain": [
       "[z == (-5/3), z == 1]"
      ]
     },
     "execution_count": 22,
     "metadata": {},
     "output_type": "execute_result"
    }
   ],
   "source": [
    "solve(3*z^2 + 2*z - 5, z)"
   ]
  },
  {
   "cell_type": "markdown",
   "id": "2d48e3c5",
   "metadata": {},
   "source": [
    "---\n",
    "\n",
    "## Спрощення виразів\n",
    "\n",
    "Спростіть вираз: $ 2x^2 + 4x - 2x^2 + x $."
   ]
  },
  {
   "cell_type": "code",
   "execution_count": 25,
   "id": "e7e06f59-0b1f-4b3c-a56d-eeb706edbd41",
   "metadata": {},
   "outputs": [
    {
     "data": {
      "text/plain": [
       "x"
      ]
     },
     "execution_count": 25,
     "metadata": {},
     "output_type": "execute_result"
    }
   ],
   "source": [
    "var('x')"
   ]
  },
  {
   "cell_type": "code",
   "execution_count": 26,
   "id": "1f125031",
   "metadata": {},
   "outputs": [
    {
     "data": {
      "text/plain": [
       "5*x"
      ]
     },
     "execution_count": 26,
     "metadata": {},
     "output_type": "execute_result"
    }
   ],
   "source": [
    "simplify(2*x^2 + 4*x - 2*x^2 + x)"
   ]
  },
  {
   "cell_type": "markdown",
   "id": "04dede92",
   "metadata": {},
   "source": [
    "---\n",
    "\n",
    "## Розкриття дужок\n",
    "\n",
    "Розкрийте дужки для виразу $ (x + 2)(x - 3) $."
   ]
  },
  {
   "cell_type": "code",
   "execution_count": 91,
   "id": "1661347f-c6f2-4327-9b23-1171ad8bbb1e",
   "metadata": {},
   "outputs": [],
   "source": [
    "x = var('x')"
   ]
  },
  {
   "cell_type": "code",
   "execution_count": 29,
   "id": "5897fb78",
   "metadata": {},
   "outputs": [
    {
     "data": {
      "text/plain": [
       "x^2 - x - 6"
      ]
     },
     "execution_count": 29,
     "metadata": {},
     "output_type": "execute_result"
    }
   ],
   "source": [
    "expand((x+2)*(x-3))"
   ]
  },
  {
   "cell_type": "markdown",
   "id": "2a39fa06",
   "metadata": {},
   "source": [
    "---\n",
    "\n",
    "## Факторизація\n",
    "Розкладіть на найпростіші множники квадратний тричлен $ x^2 - 9x + 20 $."
   ]
  },
  {
   "cell_type": "code",
   "execution_count": 90,
   "id": "2455ee59-2570-4b45-9204-252150f0eaa3",
   "metadata": {},
   "outputs": [],
   "source": [
    "x = var('x')"
   ]
  },
  {
   "cell_type": "code",
   "execution_count": 30,
   "id": "f720ef67",
   "metadata": {},
   "outputs": [
    {
     "data": {
      "text/plain": [
       "(x - 4)*(x - 5)"
      ]
     },
     "execution_count": 30,
     "metadata": {},
     "output_type": "execute_result"
    }
   ],
   "source": [
    "factor(x^2 - 9*x + 20)"
   ]
  },
  {
   "cell_type": "markdown",
   "id": "5e80e95e",
   "metadata": {},
   "source": [
    "---\n",
    "\n",
    "## Розв'язування рівнянь\n",
    "Розв'яжіть рівняння $ x^2 - 4x + 3 = 0 $."
   ]
  },
  {
   "cell_type": "code",
   "execution_count": 89,
   "id": "c0966e9e-ead0-4d74-807c-a37dd9eecdac",
   "metadata": {},
   "outputs": [],
   "source": [
    "x = var('x')"
   ]
  },
  {
   "cell_type": "code",
   "execution_count": 88,
   "id": "6ba9ca06",
   "metadata": {},
   "outputs": [
    {
     "data": {
      "text/plain": [
       "[x == 3, x == 1]"
      ]
     },
     "execution_count": 88,
     "metadata": {},
     "output_type": "execute_result"
    }
   ],
   "source": [
    "solve(x^2 - 4*x + 3, x)"
   ]
  },
  {
   "cell_type": "markdown",
   "id": "d81e6b69",
   "metadata": {},
   "source": [
    "---\n",
    "\n",
    "## Графік функції\n",
    "Побудуйте графік функції $ f(x) = x^2 - 4x + 3 $ у діапазоні $ x = [-5, 5] $."
   ]
  },
  {
   "cell_type": "code",
   "execution_count": 19,
   "id": "80cc3ce1-94a9-43f9-814f-4897e8a79068",
   "metadata": {},
   "outputs": [],
   "source": [
    "x = var('x')"
   ]
  },
  {
   "cell_type": "code",
   "execution_count": 20,
   "id": "b72d08da-f88f-4a15-8524-4e886edfb932",
   "metadata": {},
   "outputs": [],
   "source": [
    "f = x^2 - 4*x + 3"
   ]
  },
  {
   "cell_type": "code",
   "execution_count": 25,
   "id": "c8c388b5",
   "metadata": {},
   "outputs": [
    {
     "data": {
      "image/png": "[encoded data removed]",
      "text/plain": [
       "Graphics object consisting of 1 graphics primitive"
      ]
     },
     "execution_count": 25,
     "metadata": {},
     "output_type": "execute_result"
    }
   ],
   "source": [
    "plot(f, (-5,5))"
   ]
  },
  {
   "cell_type": "markdown",
   "id": "bfe6ff9e",
   "metadata": {},
   "source": [
    "---\n",
    "\n",
    "## Похідна\n",
    "Знайдіть похідну функції $ f(x) = x^3 + 5x^2 - 2x + 7 $."
   ]
  },
  {
   "cell_type": "code",
   "execution_count": null,
   "id": "2de5b5af-d956-4576-a192-d3c70cf736ec",
   "metadata": {},
   "outputs": [],
   "source": [
    "x = var('x')"
   ]
  },
  {
   "cell_type": "code",
   "execution_count": 37,
   "id": "19f405aa",
   "metadata": {},
   "outputs": [],
   "source": [
    "f = x^3 + 5*x^2 - 2*x + 7"
   ]
  },
  {
   "cell_type": "code",
   "execution_count": 38,
   "id": "f2affab8-6ef1-4a1b-bd42-cc33d06d1790",
   "metadata": {},
   "outputs": [
    {
     "data": {
      "text/plain": [
       "3*x^2 + 10*x - 2"
      ]
     },
     "execution_count": 38,
     "metadata": {},
     "output_type": "execute_result"
    }
   ],
   "source": [
    "diff(f, x)"
   ]
  },
  {
   "cell_type": "markdown",
   "id": "f3c97713",
   "metadata": {},
   "source": [
    "---\n",
    "\n",
    "## Первісна\n",
    "Знайдіть невизначений інтеграл від функції $ f(x) = 2x^3 - x^2 + 5 $."
   ]
  },
  {
   "cell_type": "code",
   "execution_count": 10,
   "id": "871de6f0-12d5-4378-8f3a-0464125c9478",
   "metadata": {},
   "outputs": [],
   "source": [
    "x = var('x')"
   ]
  },
  {
   "cell_type": "code",
   "execution_count": 11,
   "id": "fbacc613",
   "metadata": {},
   "outputs": [
    {
     "data": {
      "text/plain": [
       "1/2*x^4 - 1/3*x^3 + 5*x"
      ]
     },
     "execution_count": 11,
     "metadata": {},
     "output_type": "execute_result"
    }
   ],
   "source": [
    "integral(2*x^3 - x^2 + 5, x)"
   ]
  },
  {
   "cell_type": "markdown",
   "id": "93dad69b",
   "metadata": {},
   "source": [
    "---\n",
    "\n",
    "## Визначений інтеграл\n",
    "Проінтегруйте функцію $ f(x) = x^2 $ від $ x = 1 $ до $ x = 4 $."
   ]
  },
  {
   "cell_type": "code",
   "execution_count": 12,
   "id": "97af5af9",
   "metadata": {},
   "outputs": [
    {
     "data": {
      "text/plain": [
       "21"
      ]
     },
     "execution_count": 12,
     "metadata": {},
     "output_type": "execute_result"
    }
   ],
   "source": [
    "integral(x^2, x, 1, 4)"
   ]
  },
  {
   "cell_type": "markdown",
   "id": "9750aabe",
   "metadata": {},
   "source": [
    "---\n",
    "\n",
    "## Матриці\n",
    "Створіть матрицю розміру $2\\times 2$ з елементами: 1, 2, 3, 4. Виведіть матрицю на екран."
   ]
  },
  {
   "cell_type": "code",
   "execution_count": 31,
   "id": "d8e0c9f0",
   "metadata": {},
   "outputs": [],
   "source": [
    "M = Matrix([[1,2],[3,4]])"
   ]
  },
  {
   "cell_type": "code",
   "execution_count": 35,
   "id": "83162585-2a46-42d4-b9a6-48b2a30e7b90",
   "metadata": {},
   "outputs": [
    {
     "data": {
      "text/html": [
       "<html>\\(\\displaystyle \\left(\\begin{array}{rr}\n",
       "1 & 2 \\\\\n",
       "3 & 4\n",
       "\\end{array}\\right)\\)</html>"
      ],
      "text/latex": [
       "$\\displaystyle \\left(\\begin{array}{rr}\n",
       "1 & 2 \\\\\n",
       "3 & 4\n",
       "\\end{array}\\right)$"
      ],
      "text/plain": [
       "[1 2]\n",
       "[3 4]"
      ]
     },
     "metadata": {},
     "output_type": "display_data"
    }
   ],
   "source": [
    "show(M)"
   ]
  },
  {
   "cell_type": "markdown",
   "id": "45a03451",
   "metadata": {},
   "source": [
    "---\n",
    "\n",
    "## Операції з матрицями\n",
    "Для матриці $ A = \\begin{bmatrix} 1 & 2 \\\\ 3 & 4 \\end{bmatrix} $ обчисліть:\n",
    "- Транспоновану матрицю `A`.\n",
    "- Визначник матриці `A`."
   ]
  },
  {
   "cell_type": "code",
   "execution_count": 51,
   "id": "6e0c850e-87ce-406b-9f27-889ed06defcf",
   "metadata": {},
   "outputs": [],
   "source": [
    "A = Matrix([[1,2],[3,4]])"
   ]
  },
  {
   "cell_type": "code",
   "execution_count": 52,
   "id": "aff9a047-5e73-4736-8ad0-bcfab984e52c",
   "metadata": {},
   "outputs": [
    {
     "data": {
      "text/plain": [
       "[1 3]\n",
       "[2 4]"
      ]
     },
     "execution_count": 52,
     "metadata": {},
     "output_type": "execute_result"
    }
   ],
   "source": [
    "A.transpose()"
   ]
  },
  {
   "cell_type": "code",
   "execution_count": 53,
   "id": "7aab8445-a816-4649-b5b6-c6116c02fc75",
   "metadata": {},
   "outputs": [
    {
     "data": {
      "text/plain": [
       "-2"
      ]
     },
     "execution_count": 53,
     "metadata": {},
     "output_type": "execute_result"
    }
   ],
   "source": [
    "A.determinant()"
   ]
  },
  {
   "cell_type": "markdown",
   "id": "b42edc4e",
   "metadata": {},
   "source": [
    "---\n",
    "\n",
    "## Власні значення\n",
    "Знайдіть власні значення матриці $ A = \\begin{bmatrix} 1 & 2 \\\\ 2 & 3 \\end{bmatrix} $."
   ]
  },
  {
   "cell_type": "code",
   "execution_count": 54,
   "id": "06cc7e71",
   "metadata": {},
   "outputs": [],
   "source": [
    "A = Matrix([[1,2],[2,3]])"
   ]
  },
  {
   "cell_type": "code",
   "execution_count": 57,
   "id": "d4763126-18a5-4a11-ac6c-aac9191dd10a",
   "metadata": {},
   "outputs": [
    {
     "data": {
      "text/plain": [
       "[-0.2360679774997897?, 4.236067977499789?]"
      ]
     },
     "execution_count": 57,
     "metadata": {},
     "output_type": "execute_result"
    }
   ],
   "source": [
    "A.eigenvalues()"
   ]
  },
  {
   "cell_type": "markdown",
   "id": "3b38c48b",
   "metadata": {},
   "source": [
    "---\n",
    "\n",
    "## Системи рівнянь\n",
    "Розв'яжіть систему рівнянь:\n",
    "\\begin{align*}\n",
    "x + y &= 3 \\\\\n",
    "2x - y &= 0\n",
    "\\end{align*}"
   ]
  },
  {
   "cell_type": "code",
   "execution_count": 58,
   "id": "48df4302-4da6-443f-b60c-3826e2fc74d3",
   "metadata": {},
   "outputs": [],
   "source": [
    "x, y = var('x, y')"
   ]
  },
  {
   "cell_type": "code",
   "execution_count": 59,
   "id": "eeb2a9a8",
   "metadata": {},
   "outputs": [
    {
     "data": {
      "text/plain": [
       "[[x == 1, y == 2]]"
      ]
     },
     "execution_count": 59,
     "metadata": {},
     "output_type": "execute_result"
    }
   ],
   "source": [
    "solve([x+y==3, 2*x-y==0], x, y)"
   ]
  },
  {
   "cell_type": "markdown",
   "id": "a43d2b7f",
   "metadata": {},
   "source": [
    "---\n",
    "\n",
    "## Умовні оператори\n",
    "Напишіть умовний оператор, який перевіряє, чи є число `n` додатним, від'ємним або рівним нулю."
   ]
  },
  {
   "cell_type": "code",
   "execution_count": 75,
   "id": "e90ef4f6",
   "metadata": {},
   "outputs": [],
   "source": [
    "def compare_to_zero(n):\n",
    "    if(n > 0):\n",
    "        print(\"n > 0\")\n",
    "    elif(n == 0):\n",
    "        print(\"n = 0\")\n",
    "    else:\n",
    "        print(\"n < 0\")"
   ]
  },
  {
   "cell_type": "code",
   "execution_count": 87,
   "id": "5336c221-ecce-41be-bc63-90ef25bbacc2",
   "metadata": {},
   "outputs": [
    {
     "name": "stdout",
     "output_type": "stream",
     "text": [
      "n < 0\n"
     ]
    }
   ],
   "source": [
    "compare_to_zero(-3)"
   ]
  },
  {
   "cell_type": "markdown",
   "id": "4d8fdfe0",
   "metadata": {},
   "source": [
    "---\n",
    "\n",
    "## Цикли\n",
    "Напишіть цикл, який виводить числа від 1 до 10."
   ]
  },
  {
   "cell_type": "code",
   "execution_count": 60,
   "id": "c7b5607d",
   "metadata": {},
   "outputs": [
    {
     "name": "stdout",
     "output_type": "stream",
     "text": [
      "1\n",
      "2\n",
      "3\n",
      "4\n",
      "5\n",
      "6\n",
      "7\n",
      "8\n",
      "9\n",
      "10\n"
     ]
    }
   ],
   "source": [
    "for i in range(1,11):\n",
    "    print(i)"
   ]
  },
  {
   "cell_type": "markdown",
   "id": "62c726e7",
   "metadata": {},
   "source": [
    "---\n",
    "\n",
    "## Оголошення функцій\n",
    "Оголосіть функцію `f(x)`, яка повертає $ 3x^2 - 2x + 1 $. Потім обчисліть `f(5)`."
   ]
  },
  {
   "cell_type": "code",
   "execution_count": 70,
   "id": "35bd1fb9-1b50-4fad-bc59-3994661f1331",
   "metadata": {},
   "outputs": [],
   "source": [
    "x = var('x')"
   ]
  },
  {
   "cell_type": "code",
   "execution_count": 73,
   "id": "bf319cff",
   "metadata": {},
   "outputs": [],
   "source": [
    "f(x) = 3*x^2 - 2*x + 1"
   ]
  },
  {
   "cell_type": "code",
   "execution_count": 74,
   "id": "722cd10a-e547-47b9-82d0-12bb97a90917",
   "metadata": {},
   "outputs": [
    {
     "data": {
      "text/plain": [
       "66"
      ]
     },
     "execution_count": 74,
     "metadata": {},
     "output_type": "execute_result"
    }
   ],
   "source": [
    "f(5)"
   ]
  },
  {
   "cell_type": "markdown",
   "id": "955c86cd",
   "metadata": {},
   "source": [
    "---\n",
    "\n",
    "## Графіки декількох функцій\n",
    "Побудуйте графіки $ f(x) = x^2 $ та $ g(x) = -x^2 + 5 $ на одній площині у діапазоні $ x = [-3, 3] $."
   ]
  },
  {
   "cell_type": "code",
   "execution_count": 61,
   "id": "51e5aaa9-8bbf-4186-9462-18614f48c247",
   "metadata": {},
   "outputs": [],
   "source": [
    "x = var('x')"
   ]
  },
  {
   "cell_type": "code",
   "execution_count": 62,
   "id": "cdf31d02",
   "metadata": {},
   "outputs": [],
   "source": [
    "f = x^2"
   ]
  },
  {
   "cell_type": "code",
   "execution_count": 63,
   "id": "b71811d8-068f-4a60-b796-60de343b28c4",
   "metadata": {},
   "outputs": [],
   "source": [
    "g = -x^2 + 5"
   ]
  },
  {
   "cell_type": "code",
   "execution_count": 67,
   "id": "02200888-dd99-4914-b8bf-53662f767e6c",
   "metadata": {},
   "outputs": [
    {
     "data": {
      "image/png": "[encoded data removed]",
      "text/plain": [
       "Graphics object consisting of 2 graphics primitives"
      ]
     },
     "execution_count": 67,
     "metadata": {},
     "output_type": "execute_result"
    }
   ],
   "source": [
    "plot(f,(-3,3)) + plot(g,(-3,3), color = \"red\")"
   ]
  }
 ],
 "metadata": {
  "kernelspec": {
   "display_name": "SageMath 10.7",
   "language": "sage",
   "name": "sagemath"
  },
  "language_info": {
   "codemirror_mode": {
    "name": "ipython",
    "version": 3
   },
   "file_extension": ".py",
   "mimetype": "text/x-python",
   "name": "python",
   "nbconvert_exporter": "python",
   "pygments_lexer": "ipython3",
   "version": "3.13.7"
  }
 },
 "nbformat": 4,
 "nbformat_minor": 5
}
